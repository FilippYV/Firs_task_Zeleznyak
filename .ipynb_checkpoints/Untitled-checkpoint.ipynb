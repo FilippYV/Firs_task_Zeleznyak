{
 "cells": [
  {
   "cell_type": "code",
   "execution_count": 1,
   "id": "80ba163d",
   "metadata": {},
   "outputs": [],
   "source": [
    "import pandas as pd\n",
    "import numpy as np\n",
    "import seaborn as sn"
   ]
  },
  {
   "cell_type": "code",
   "execution_count": 57,
   "id": "6a9aac40",
   "metadata": {},
   "outputs": [],
   "source": [
    "data = pd.read_csv('C:/Users/filip/Firs_task_Zeleznyak/stasic//data.csv')"
   ]
  },
  {
   "cell_type": "code",
   "execution_count": 2,
   "id": "2d804db2",
   "metadata": {},
   "outputs": [],
   "source": [
    "data = pd.read_csv('C:/Users/filip/PycharmProjects/Firs_task_Zeleznyak/stasic//data.csv')"
   ]
  },
  {
   "cell_type": "code",
   "execution_count": 4,
   "id": "5930de5c",
   "metadata": {},
   "outputs": [
    {
     "data": {
      "text/plain": [
       "array([[<AxesSubplot: title={'center': 'receipt_number'}>]], dtype=object)"
      ]
     },
     "execution_count": 4,
     "metadata": {},
     "output_type": "execute_result"
    },
    {
     "data": {
      "image/png": "[encoded data removed]",
      "text/plain": [
       "<Figure size 640x480 with 1 Axes>"
      ]
     },
     "metadata": {},
     "output_type": "display_data"
    }
   ],
   "source": [
    "data.hist()"
   ]
  },
  {
   "cell_type": "code",
   "execution_count": 59,
   "id": "8ba63c49",
   "metadata": {},
   "outputs": [
    {
     "data": {
      "text/html": [
       "<div>\n",
       "<style scoped>\n",
       "    .dataframe tbody tr th:only-of-type {\n",
       "        vertical-align: middle;\n",
       "    }\n",
       "\n",
       "    .dataframe tbody tr th {\n",
       "        vertical-align: top;\n",
       "    }\n",
       "\n",
       "    .dataframe thead th {\n",
       "        text-align: right;\n",
       "    }\n",
       "</style>\n",
       "<table border=\"1\" class=\"dataframe\">\n",
       "  <thead>\n",
       "    <tr style=\"text-align: right;\">\n",
       "      <th></th>\n",
       "      <th>receipt_number</th>\n",
       "      <th>product</th>\n",
       "    </tr>\n",
       "  </thead>\n",
       "  <tbody>\n",
       "    <tr>\n",
       "      <th>0</th>\n",
       "      <td>15</td>\n",
       "      <td>Передние тормозные колодки</td>\n",
       "    </tr>\n",
       "    <tr>\n",
       "      <th>1</th>\n",
       "      <td>15</td>\n",
       "      <td>Моторное масло</td>\n",
       "    </tr>\n",
       "    <tr>\n",
       "      <th>2</th>\n",
       "      <td>15</td>\n",
       "      <td>Масляный фильтр ДВС</td>\n",
       "    </tr>\n",
       "    <tr>\n",
       "      <th>3</th>\n",
       "      <td>20</td>\n",
       "      <td>Фильтр салона</td>\n",
       "    </tr>\n",
       "    <tr>\n",
       "      <th>4</th>\n",
       "      <td>20</td>\n",
       "      <td>Фильтр салона тонкой очистки</td>\n",
       "    </tr>\n",
       "    <tr>\n",
       "      <th>5</th>\n",
       "      <td>30</td>\n",
       "      <td>Свечи зажигания на моделях с бензиновым ДВС</td>\n",
       "    </tr>\n",
       "    <tr>\n",
       "      <th>6</th>\n",
       "      <td>30</td>\n",
       "      <td>Передние тормозные колодки</td>\n",
       "    </tr>\n",
       "    <tr>\n",
       "      <th>7</th>\n",
       "      <td>30</td>\n",
       "      <td>Задние тормозные колодки</td>\n",
       "    </tr>\n",
       "    <tr>\n",
       "      <th>8</th>\n",
       "      <td>30</td>\n",
       "      <td>Моторное масло</td>\n",
       "    </tr>\n",
       "    <tr>\n",
       "      <th>9</th>\n",
       "      <td>30</td>\n",
       "      <td>Воздушный фильтр ДВС</td>\n",
       "    </tr>\n",
       "  </tbody>\n",
       "</table>\n",
       "</div>"
      ],
      "text/plain": [
       "   receipt_number                                      product\n",
       "0              15                   Передние тормозные колодки\n",
       "1              15                               Моторное масло\n",
       "2              15                          Масляный фильтр ДВС\n",
       "3              20                                Фильтр салона\n",
       "4              20                 Фильтр салона тонкой очистки\n",
       "5              30  Свечи зажигания на моделях с бензиновым ДВС\n",
       "6              30                   Передние тормозные колодки\n",
       "7              30                     Задние тормозные колодки\n",
       "8              30                               Моторное масло\n",
       "9              30                         Воздушный фильтр ДВС"
      ]
     },
     "execution_count": 59,
     "metadata": {},
     "output_type": "execute_result"
    }
   ],
   "source": [
    "data.head(10)"
   ]
  },
  {
   "cell_type": "code",
   "execution_count": 5,
   "id": "f173a058",
   "metadata": {},
   "outputs": [
    {
     "name": "stdout",
     "output_type": "stream",
     "text": [
      "15\n"
     ]
    },
    {
     "data": {
      "text/plain": [
       "array([ 15,  20,  30,  40,  45,  50,  55,  60,  70,  75,  80,  90, 100,\n",
       "       110, 120], dtype=int64)"
      ]
     },
     "execution_count": 5,
     "metadata": {},
     "output_type": "execute_result"
    }
   ],
   "source": [
    "unique_receipts = data.receipt_number.unique()\n",
    "print(len(unique_receipts))\n",
    "unique_receipts"
   ]
  },
  {
   "cell_type": "code",
   "execution_count": 34,
   "id": "b0553533",
   "metadata": {},
   "outputs": [],
   "source": [
    "count_receipt = len(unique_receipts)"
   ]
  },
  {
   "cell_type": "code",
   "execution_count": 6,
   "id": "ba63fb11",
   "metadata": {},
   "outputs": [
    {
     "name": "stdout",
     "output_type": "stream",
     "text": [
      "28\n"
     ]
    },
    {
     "data": {
      "text/plain": [
       "array(['Передние тормозные колодки', 'Моторное масло',\n",
       "       'Масляный фильтр ДВС', 'Фильтр салона',\n",
       "       'Фильтр салона тонкой очистки',\n",
       "       'Свечи зажигания на моделях с бензиновым ДВС',\n",
       "       'Задние тормозные колодки', 'Воздушный фильтр ДВС',\n",
       "       'Топливный фильтр тонкой очистки', 'Щетки стеклоочистителя',\n",
       "       'Масло в коробке передач', 'Жидкость ГУР',\n",
       "       'Масляный фильтр коробки передач', 'Тормозная жидкость',\n",
       "       'Приводной ремень', 'Основной аккумулятор', 'Рычаги подвески',\n",
       "       'Шрусы или их составные части',\n",
       "       'Свечи накаливания на моделях с дизельным ДВС\"',\n",
       "       'Стойки (тяги) стабилизатора', 'Тормозные диски',\n",
       "       'Ступичный подшипник на передней и задней паре колёс',\n",
       "       'Сальники ступицы на передней и задней паре колёс',\n",
       "       'Зимний и летний комплект шин', 'Топливный насос',\n",
       "       'Термостат системы охлаждения ДВС',\n",
       "       'Термостат AGR/EGR на моделях с охлаждением рециркулируемых ОГ',\n",
       "       'Смазка в шрусах, пыльники и хомуты'], dtype=object)"
      ]
     },
     "execution_count": 6,
     "metadata": {},
     "output_type": "execute_result"
    }
   ],
   "source": [
    "unique_products = data['product'].unique()\n",
    "print(len(unique_products))\n",
    "unique_products"
   ]
  },
  {
   "cell_type": "code",
   "execution_count": 7,
   "id": "f878431c",
   "metadata": {},
   "outputs": [
    {
     "data": {
      "text/plain": [
       "array([[15, 'Передние тормозные колодки'],\n",
       "       [15, 'Моторное масло'],\n",
       "       [15, 'Масляный фильтр ДВС'],\n",
       "       [20, 'Фильтр салона'],\n",
       "       [20, 'Фильтр салона тонкой очистки']], dtype=object)"
      ]
     },
     "execution_count": 7,
     "metadata": {},
     "output_type": "execute_result"
    }
   ],
   "source": [
    "data_np = data.to_numpy()\n",
    "data_np[:5]"
   ]
  },
  {
   "cell_type": "code",
   "execution_count": 9,
   "id": "d5a0bfbc",
   "metadata": {},
   "outputs": [
    {
     "data": {
      "text/plain": [
       "[['Передние тормозные колодки', 'Моторное масло', 'Масляный фильтр ДВС'],\n",
       " ['Фильтр салона', 'Фильтр салона тонкой очистки'],\n",
       " ['Свечи зажигания на моделях с бензиновым ДВС',\n",
       "  'Передние тормозные колодки',\n",
       "  'Задние тормозные колодки',\n",
       "  'Моторное масло',\n",
       "  'Воздушный фильтр ДВС',\n",
       "  'Масляный фильтр ДВС',\n",
       "  'Топливный фильтр тонкой очистки',\n",
       "  'Щетки стеклоочистителя'],\n",
       " ['Передние тормозные колодки',\n",
       "  'Фильтр салона',\n",
       "  'Фильтр салона тонкой очистки'],\n",
       " ['Моторное масло', 'Масляный фильтр ДВС'],\n",
       " ['Передние тормозные колодки',\n",
       "  'Масло в коробке передач',\n",
       "  'Жидкость ГУР',\n",
       "  'Масляный фильтр коробки передач'],\n",
       " ['Тормозная жидкость'],\n",
       " ['Свечи зажигания на моделях с бензиновым ДВС',\n",
       "  'Передние тормозные колодки',\n",
       "  'Задние тормозные колодки',\n",
       "  'Моторное масло',\n",
       "  'Воздушный фильтр ДВС',\n",
       "  'Масляный фильтр ДВС',\n",
       "  'Топливный фильтр тонкой очистки',\n",
       "  'Фильтр салона',\n",
       "  'Фильтр салона тонкой очистки',\n",
       "  'Щетки стеклоочистителя'],\n",
       " ['Приводной ремень', 'Передние тормозные колодки', 'Основной аккумулятор'],\n",
       " ['Моторное масло', 'Масляный фильтр ДВС'],\n",
       " ['Рычаги подвески',\n",
       "  'Передние тормозные колодки',\n",
       "  'Фильтр салона',\n",
       "  'Фильтр салона тонкой очистки'],\n",
       " ['Свечи зажигания на моделях с бензиновым ДВС',\n",
       "  'Шрусы или их составные части',\n",
       "  'Передние тормозные колодки',\n",
       "  'Задние тормозные колодки',\n",
       "  'Моторное масло',\n",
       "  'Воздушный фильтр ДВС',\n",
       "  'Масляный фильтр ДВС',\n",
       "  'Топливный фильтр тонкой очистки',\n",
       "  'Щетки стеклоочистителя'],\n",
       " ['Свечи накаливания на моделях с дизельным ДВС\"',\n",
       "  'Стойки (тяги) стабилизатора',\n",
       "  'Тормозные диски',\n",
       "  'Ступичный подшипник на передней и задней паре колёс',\n",
       "  'Сальники ступицы на передней и задней паре колёс',\n",
       "  'Передние тормозные колодки',\n",
       "  'Зимний и летний комплект шин',\n",
       "  'Топливный насос',\n",
       "  'Моторное масло',\n",
       "  'Масло в коробке передач',\n",
       "  'Жидкость ГУР',\n",
       "  'Масляный фильтр ДВС',\n",
       "  'Масляный фильтр коробки передач',\n",
       "  'Фильтр салона',\n",
       "  'Фильтр салона тонкой очистки'],\n",
       " ['Передние тормозные колодки',\n",
       "  'Моторное масло',\n",
       "  'Тормозная жидкость',\n",
       "  'Масляный фильтр ДВС'],\n",
       " ['Свечи зажигания на моделях с бензиновым ДВС',\n",
       "  'Термостат системы охлаждения ДВС',\n",
       "  'Термостат AGR/EGR на моделях с охлаждением рециркулируемых ОГ',\n",
       "  'Передние тормозные колодки',\n",
       "  'Задние тормозные колодки',\n",
       "  'Моторное масло',\n",
       "  'Смазка в шрусах, пыльники и хомуты',\n",
       "  'Воздушный фильтр ДВС',\n",
       "  'Масляный фильтр ДВС',\n",
       "  'Топливный фильтр тонкой очистки',\n",
       "  'Фильтр салона',\n",
       "  'Фильтр салона тонкой очистки',\n",
       "  'Щетки стеклоочистителя']]"
      ]
     },
     "execution_count": 9,
     "metadata": {},
     "output_type": "execute_result"
    }
   ],
   "source": [
    "group_products_receipts = []\n",
    "for i in unique_receipts:\n",
    "    micro_data = []\n",
    "    for j in data_np:\n",
    "        if j[0] == i:\n",
    "            micro_data.append(j[1])\n",
    "    group_products_receipts.append(micro_data)\n",
    "group_products_receipts"
   ]
  },
  {
   "cell_type": "code",
   "execution_count": 10,
   "id": "16677d49",
   "metadata": {},
   "outputs": [
    {
     "data": {
      "text/html": [
       "<div>\n",
       "<style scoped>\n",
       "    .dataframe tbody tr th:only-of-type {\n",
       "        vertical-align: middle;\n",
       "    }\n",
       "\n",
       "    .dataframe tbody tr th {\n",
       "        vertical-align: top;\n",
       "    }\n",
       "\n",
       "    .dataframe thead th {\n",
       "        text-align: right;\n",
       "    }\n",
       "</style>\n",
       "<table border=\"1\" class=\"dataframe\">\n",
       "  <thead>\n",
       "    <tr style=\"text-align: right;\">\n",
       "      <th></th>\n",
       "      <th>receipt</th>\n",
       "      <th>product</th>\n",
       "    </tr>\n",
       "  </thead>\n",
       "  <tbody>\n",
       "    <tr>\n",
       "      <th>0</th>\n",
       "      <td>15</td>\n",
       "      <td>[Передние тормозные колодки, Моторное масло, М...</td>\n",
       "    </tr>\n",
       "    <tr>\n",
       "      <th>1</th>\n",
       "      <td>20</td>\n",
       "      <td>[Фильтр салона, Фильтр салона тонкой очистки]</td>\n",
       "    </tr>\n",
       "    <tr>\n",
       "      <th>2</th>\n",
       "      <td>30</td>\n",
       "      <td>[Свечи зажигания на моделях с бензиновым ДВС, ...</td>\n",
       "    </tr>\n",
       "    <tr>\n",
       "      <th>3</th>\n",
       "      <td>40</td>\n",
       "      <td>[Передние тормозные колодки, Фильтр салона, Фи...</td>\n",
       "    </tr>\n",
       "    <tr>\n",
       "      <th>4</th>\n",
       "      <td>45</td>\n",
       "      <td>[Моторное масло, Масляный фильтр ДВС]</td>\n",
       "    </tr>\n",
       "    <tr>\n",
       "      <th>5</th>\n",
       "      <td>50</td>\n",
       "      <td>[Передние тормозные колодки, Масло в коробке п...</td>\n",
       "    </tr>\n",
       "    <tr>\n",
       "      <th>6</th>\n",
       "      <td>55</td>\n",
       "      <td>[Тормозная жидкость]</td>\n",
       "    </tr>\n",
       "    <tr>\n",
       "      <th>7</th>\n",
       "      <td>60</td>\n",
       "      <td>[Свечи зажигания на моделях с бензиновым ДВС, ...</td>\n",
       "    </tr>\n",
       "    <tr>\n",
       "      <th>8</th>\n",
       "      <td>70</td>\n",
       "      <td>[Приводной ремень, Передние тормозные колодки,...</td>\n",
       "    </tr>\n",
       "    <tr>\n",
       "      <th>9</th>\n",
       "      <td>75</td>\n",
       "      <td>[Моторное масло, Масляный фильтр ДВС]</td>\n",
       "    </tr>\n",
       "    <tr>\n",
       "      <th>10</th>\n",
       "      <td>80</td>\n",
       "      <td>[Рычаги подвески, Передние тормозные колодки, ...</td>\n",
       "    </tr>\n",
       "    <tr>\n",
       "      <th>11</th>\n",
       "      <td>90</td>\n",
       "      <td>[Свечи зажигания на моделях с бензиновым ДВС, ...</td>\n",
       "    </tr>\n",
       "    <tr>\n",
       "      <th>12</th>\n",
       "      <td>100</td>\n",
       "      <td>[Свечи накаливания на моделях с дизельным ДВС\"...</td>\n",
       "    </tr>\n",
       "    <tr>\n",
       "      <th>13</th>\n",
       "      <td>110</td>\n",
       "      <td>[Передние тормозные колодки, Моторное масло, Т...</td>\n",
       "    </tr>\n",
       "    <tr>\n",
       "      <th>14</th>\n",
       "      <td>120</td>\n",
       "      <td>[Свечи зажигания на моделях с бензиновым ДВС, ...</td>\n",
       "    </tr>\n",
       "  </tbody>\n",
       "</table>\n",
       "</div>"
      ],
      "text/plain": [
       "    receipt                                            product\n",
       "0        15  [Передние тормозные колодки, Моторное масло, М...\n",
       "1        20      [Фильтр салона, Фильтр салона тонкой очистки]\n",
       "2        30  [Свечи зажигания на моделях с бензиновым ДВС, ...\n",
       "3        40  [Передние тормозные колодки, Фильтр салона, Фи...\n",
       "4        45              [Моторное масло, Масляный фильтр ДВС]\n",
       "5        50  [Передние тормозные колодки, Масло в коробке п...\n",
       "6        55                               [Тормозная жидкость]\n",
       "7        60  [Свечи зажигания на моделях с бензиновым ДВС, ...\n",
       "8        70  [Приводной ремень, Передние тормозные колодки,...\n",
       "9        75              [Моторное масло, Масляный фильтр ДВС]\n",
       "10       80  [Рычаги подвески, Передние тормозные колодки, ...\n",
       "11       90  [Свечи зажигания на моделях с бензиновым ДВС, ...\n",
       "12      100  [Свечи накаливания на моделях с дизельным ДВС\"...\n",
       "13      110  [Передние тормозные колодки, Моторное масло, Т...\n",
       "14      120  [Свечи зажигания на моделях с бензиновым ДВС, ..."
      ]
     },
     "execution_count": 10,
     "metadata": {},
     "output_type": "execute_result"
    }
   ],
   "source": [
    "dataframe = pd.DataFrame({'receipt' : unique_receipts,\n",
    "                  \n",
    "                          'product' : group_products_receipts}, \n",
    "                                columns=['receipt','product'])\n",
    "dataframe"
   ]
  },
  {
   "cell_type": "code",
   "execution_count": 86,
   "id": "65d2acad",
   "metadata": {},
   "outputs": [],
   "source": [
    "mass_group_products = []\n",
    "for i in range(len(unique_products)-1):\n",
    "    for j in range(i + 1, len(unique_products)):\n",
    "        mass_group_products.append([[unique_products[i]],[unique_products[j]]])\n",
    "        mass_for_two = [unique_products[i], unique_products[j]]\n",
    "        for two in unique_products:\n",
    "            if two not in mass_for_two:\n",
    "                mass_group_products.append([mass_for_two, [two]])\n",
    "        mass_for_three = [mass_for_two[0], mass_for_two[1], two]\n",
    "        for three in unique_products:\n",
    "            if three not in mass_for_three:\n",
    "                mass_group_products.append([mass_for_three, [three]])\n",
    "        mass_for_four = [mass_for_three[0], mass_for_three[1],  mass_for_three[2],  three]\n",
    "        for four in unique_products:\n",
    "             if four not in mass_for_four:\n",
    "                mass_group_products.append([mass_for_four, [four]])"
   ]
  },
  {
   "cell_type": "code",
   "execution_count": 87,
   "id": "1330482a",
   "metadata": {},
   "outputs": [
    {
     "data": {
      "text/plain": [
       "[[['Передние тормозные колодки'], ['Моторное масло']],\n",
       " [['Передние тормозные колодки', 'Моторное масло'], ['Масляный фильтр ДВС']],\n",
       " [['Передние тормозные колодки', 'Моторное масло'], ['Фильтр салона']]]"
      ]
     },
     "execution_count": 87,
     "metadata": {},
     "output_type": "execute_result"
    }
   ],
   "source": [
    "mass_group_products[:3]"
   ]
  },
  {
   "cell_type": "code",
   "execution_count": 88,
   "id": "c1341fad",
   "metadata": {},
   "outputs": [],
   "source": [
    "for i in range(len(mass_group_products)):\n",
    "    count = 0\n",
    "    for j in group_products_receipts:\n",
    "        if set(mass_group_products[i][0]).issubset(j) and set(mass_group_products[i][1]).issubset(j):\n",
    "            count += 1\n",
    "    mass_group_products[i].append((round((count*100/count_receipt),2)))\n",
    "    # print(count, set(mass_group_products[i][0]).issubset(j), set(mass_group_products[i][1]).issubset(j), j, mass_group_products[i])\n",
    "#         break    "
   ]
  },
  {
   "cell_type": "code",
   "execution_count": 89,
   "id": "552e0850",
   "metadata": {},
   "outputs": [
    {
     "data": {
      "text/plain": [
       "[[['Передние тормозные колодки'], ['Моторное масло'], 46.67],\n",
       " [['Передние тормозные колодки', 'Моторное масло'],\n",
       "  ['Масляный фильтр ДВС'],\n",
       "  46.67],\n",
       " [['Передние тормозные колодки', 'Моторное масло'], ['Фильтр салона'], 20.0]]"
      ]
     },
     "execution_count": 89,
     "metadata": {},
     "output_type": "execute_result"
    }
   ],
   "source": [
    "mass_group_products[:3]"
   ]
  },
  {
   "cell_type": "code",
   "execution_count": 90,
   "id": "eb04db7e",
   "metadata": {},
   "outputs": [],
   "source": [
    "for i in range(len(mass_group_products)):\n",
    "    count_one = 0\n",
    "    count_two = 0\n",
    "    for j in group_products_receipts:\n",
    "        if set(mass_group_products[i][0]).issubset(j) and set(mass_group_products[i][1]).issubset(j):\n",
    "            count_one += 1\n",
    "    for j in group_products_receipts:\n",
    "        if set(mass_group_products[i][0]).issubset(j):\n",
    "            count_two += 1\n",
    "    if count_two != 0:\n",
    "        mass_group_products[i].append((round((count_one*100/count_two),2)))\n",
    "    else:\n",
    "        mass_group_products[i].append(0)"
   ]
  },
  {
   "cell_type": "code",
   "execution_count": 91,
   "id": "7293635f",
   "metadata": {},
   "outputs": [
    {
     "data": {
      "text/plain": [
       "[[['Передние тормозные колодки'], ['Моторное масло'], 46.67, 63.64],\n",
       " [['Передние тормозные колодки', 'Моторное масло'],\n",
       "  ['Масляный фильтр ДВС'],\n",
       "  46.67,\n",
       "  100.0],\n",
       " [['Передние тормозные колодки', 'Моторное масло'],\n",
       "  ['Фильтр салона'],\n",
       "  20.0,\n",
       "  42.86]]"
      ]
     },
     "execution_count": 91,
     "metadata": {},
     "output_type": "execute_result"
    }
   ],
   "source": [
    "mass_group_products[:3]"
   ]
  },
  {
   "cell_type": "code",
   "execution_count": 92,
   "id": "5f62212c",
   "metadata": {},
   "outputs": [],
   "source": [
    "for i in range(len(mass_group_products)):\n",
    "    count_one = 0\n",
    "    for j in group_products_receipts:\n",
    "        if set(mass_group_products[i][1]).issubset(j):\n",
    "            count_one += 1\n",
    "    if (count_one*100/count_receipt) != 0:\n",
    "        mass_group_products[i].append((round(mass_group_products[i][-1]/(count_one*100/count_receipt),2)))\n",
    "    else:\n",
    "        mass_group_products[i].append(0)"
   ]
  },
  {
   "cell_type": "code",
   "execution_count": 93,
   "id": "bcf6baaf",
   "metadata": {},
   "outputs": [
    {
     "data": {
      "text/plain": [
       "[[['Передние тормозные колодки'], ['Моторное масло'], 46.67, 63.64, 1.06],\n",
       " [['Передние тормозные колодки', 'Моторное масло'],\n",
       "  ['Масляный фильтр ДВС'],\n",
       "  46.67,\n",
       "  100.0,\n",
       "  1.67],\n",
       " [['Передние тормозные колодки', 'Моторное масло'],\n",
       "  ['Фильтр салона'],\n",
       "  20.0,\n",
       "  42.86,\n",
       "  1.07]]"
      ]
     },
     "execution_count": 93,
     "metadata": {},
     "output_type": "execute_result"
    }
   ],
   "source": [
    "mass_group_products[:3]"
   ]
  },
  {
   "cell_type": "code",
   "execution_count": 133,
   "id": "8cd1e30c",
   "metadata": {},
   "outputs": [],
   "source": [
    "name_for_index = []\n",
    "for i in range(len(mass_group_products)):\n",
    "    name_A = ''\n",
    "    name_B = ''\n",
    "    for k in range(len(mass_group_products[i][0])):\n",
    "        len_name = len(mass_group_products[i][0])\n",
    "        if k != len_name - 1 and len_name != 1:\n",
    "            name_A += f'{mass_group_products[i][0][k]}, '\n",
    "        else:\n",
    "            name_A += f'{mass_group_products[i][0][k]}'\n",
    "    name_B = mass_group_products[i][1][0]\n",
    "    string = f'{name_A} | {name_B}'\n",
    "    name_for_index.append(string)"
   ]
  },
  {
   "cell_type": "code",
   "execution_count": 134,
   "id": "06067a2d",
   "metadata": {},
   "outputs": [
    {
     "data": {
      "text/plain": [
       "['Передние тормозные колодки | Моторное масло',\n",
       " 'Передние тормозные колодки, Моторное масло | Масляный фильтр ДВС',\n",
       " 'Передние тормозные колодки, Моторное масло | Фильтр салона',\n",
       " 'Передние тормозные колодки, Моторное масло | Фильтр салона тонкой очистки',\n",
       " 'Передние тормозные колодки, Моторное масло | Свечи зажигания на моделях с бензиновым ДВС']"
      ]
     },
     "execution_count": 134,
     "metadata": {},
     "output_type": "execute_result"
    }
   ],
   "source": [
    "name_for_index[:5]"
   ]
  },
  {
   "cell_type": "code",
   "execution_count": 135,
   "id": "d89602f4",
   "metadata": {},
   "outputs": [
    {
     "data": {
      "text/plain": [
       "[[46.67, 63.64, 1.06],\n",
       " [46.67, 100.0, 1.67],\n",
       " [20.0, 42.86, 1.07],\n",
       " [20.0, 42.86, 1.07],\n",
       " [26.67, 57.14, 2.14]]"
      ]
     },
     "execution_count": 135,
     "metadata": {},
     "output_type": "execute_result"
    }
   ],
   "source": [
    "dataframe = []\n",
    "for i in range(len(mass_group_products)):\n",
    "    mass = []\n",
    "    for j in range(len(mass_group_products[i])):\n",
    "        if j != 0 and j != 1:\n",
    "            mass.append(mass_group_products[i][j])\n",
    "    dataframe.append(mass)\n",
    "dataframe[:5]"
   ]
  },
  {
   "cell_type": "code",
   "execution_count": 136,
   "id": "4c7df55e",
   "metadata": {},
   "outputs": [
    {
     "data": {
      "text/plain": [
       "102"
      ]
     },
     "execution_count": 136,
     "metadata": {},
     "output_type": "execute_result"
    }
   ],
   "source": [
    "Dataframe = pd.DataFrame(dataframe, columns =['Suported', 'Reliability', 'Lift'], index=name_for_index)\n",
    "Dataframe = (Dataframe.loc[Dataframe.Suported < 89]) \n",
    "Dataframe = (Dataframe.loc[20 < Dataframe.Suported]) \n",
    "Dataframe = (Dataframe.loc[30 < Dataframe.Reliability]) \n",
    "Dataframe = (Dataframe.loc[Dataframe.Reliability < 70])\n",
    "Dataframe.size"
   ]
  },
  {
   "cell_type": "code",
   "execution_count": 141,
   "id": "92413d3e",
   "metadata": {},
   "outputs": [
    {
     "data": {
      "text/html": [
       "<div>\n",
       "<style scoped>\n",
       "    .dataframe tbody tr th:only-of-type {\n",
       "        vertical-align: middle;\n",
       "    }\n",
       "\n",
       "    .dataframe tbody tr th {\n",
       "        vertical-align: top;\n",
       "    }\n",
       "\n",
       "    .dataframe thead th {\n",
       "        text-align: right;\n",
       "    }\n",
       "</style>\n",
       "<table border=\"1\" class=\"dataframe\">\n",
       "  <thead>\n",
       "    <tr style=\"text-align: right;\">\n",
       "      <th></th>\n",
       "      <th>Suported</th>\n",
       "      <th>Reliability</th>\n",
       "      <th>Lift</th>\n",
       "    </tr>\n",
       "  </thead>\n",
       "  <tbody>\n",
       "    <tr>\n",
       "      <th>Передние тормозные колодки | Моторное масло</th>\n",
       "      <td>46.67</td>\n",
       "      <td>63.64</td>\n",
       "      <td>1.06</td>\n",
       "    </tr>\n",
       "    <tr>\n",
       "      <th>Передние тормозные колодки | Масляный фильтр ДВС</th>\n",
       "      <td>46.67</td>\n",
       "      <td>63.64</td>\n",
       "      <td>1.06</td>\n",
       "    </tr>\n",
       "    <tr>\n",
       "      <th>Передние тормозные колодки | Фильтр салона тонкой очистки</th>\n",
       "      <td>33.33</td>\n",
       "      <td>45.45</td>\n",
       "      <td>1.14</td>\n",
       "    </tr>\n",
       "    <tr>\n",
       "      <th>Передние тормозные колодки | Фильтр салона</th>\n",
       "      <td>33.33</td>\n",
       "      <td>45.45</td>\n",
       "      <td>1.14</td>\n",
       "    </tr>\n",
       "    <tr>\n",
       "      <th>Передние тормозные колодки | Щетки стеклоочистителя</th>\n",
       "      <td>26.67</td>\n",
       "      <td>36.36</td>\n",
       "      <td>1.36</td>\n",
       "    </tr>\n",
       "    <tr>\n",
       "      <th>Передние тормозные колодки | Топливный фильтр тонкой очистки</th>\n",
       "      <td>26.67</td>\n",
       "      <td>36.36</td>\n",
       "      <td>1.36</td>\n",
       "    </tr>\n",
       "    <tr>\n",
       "      <th>Передние тормозные колодки | Задние тормозные колодки</th>\n",
       "      <td>26.67</td>\n",
       "      <td>36.36</td>\n",
       "      <td>1.36</td>\n",
       "    </tr>\n",
       "    <tr>\n",
       "      <th>Передние тормозные колодки | Свечи зажигания на моделях с бензиновым ДВС</th>\n",
       "      <td>26.67</td>\n",
       "      <td>36.36</td>\n",
       "      <td>1.36</td>\n",
       "    </tr>\n",
       "    <tr>\n",
       "      <th>Передние тормозные колодки | Воздушный фильтр ДВС</th>\n",
       "      <td>26.67</td>\n",
       "      <td>36.36</td>\n",
       "      <td>1.36</td>\n",
       "    </tr>\n",
       "    <tr>\n",
       "      <th>Моторное масло, Масляный фильтр ДВС | Воздушный фильтр ДВС</th>\n",
       "      <td>26.67</td>\n",
       "      <td>44.44</td>\n",
       "      <td>1.67</td>\n",
       "    </tr>\n",
       "    <tr>\n",
       "      <th>Масляный фильтр ДВС | Воздушный фильтр ДВС</th>\n",
       "      <td>26.67</td>\n",
       "      <td>44.44</td>\n",
       "      <td>1.67</td>\n",
       "    </tr>\n",
       "    <tr>\n",
       "      <th>Масляный фильтр ДВС | Задние тормозные колодки</th>\n",
       "      <td>26.67</td>\n",
       "      <td>44.44</td>\n",
       "      <td>1.67</td>\n",
       "    </tr>\n",
       "    <tr>\n",
       "      <th>Масляный фильтр ДВС | Свечи зажигания на моделях с бензиновым ДВС</th>\n",
       "      <td>26.67</td>\n",
       "      <td>44.44</td>\n",
       "      <td>1.67</td>\n",
       "    </tr>\n",
       "    <tr>\n",
       "      <th>Моторное масло | Щетки стеклоочистителя</th>\n",
       "      <td>26.67</td>\n",
       "      <td>44.44</td>\n",
       "      <td>1.67</td>\n",
       "    </tr>\n",
       "    <tr>\n",
       "      <th>Моторное масло | Топливный фильтр тонкой очистки</th>\n",
       "      <td>26.67</td>\n",
       "      <td>44.44</td>\n",
       "      <td>1.67</td>\n",
       "    </tr>\n",
       "    <tr>\n",
       "      <th>Моторное масло | Воздушный фильтр ДВС</th>\n",
       "      <td>26.67</td>\n",
       "      <td>44.44</td>\n",
       "      <td>1.67</td>\n",
       "    </tr>\n",
       "    <tr>\n",
       "      <th>Моторное масло | Задние тормозные колодки</th>\n",
       "      <td>26.67</td>\n",
       "      <td>44.44</td>\n",
       "      <td>1.67</td>\n",
       "    </tr>\n",
       "    <tr>\n",
       "      <th>Моторное масло | Свечи зажигания на моделях с бензиновым ДВС</th>\n",
       "      <td>26.67</td>\n",
       "      <td>44.44</td>\n",
       "      <td>1.67</td>\n",
       "    </tr>\n",
       "    <tr>\n",
       "      <th>Моторное масло, Масляный фильтр ДВС | Щетки стеклоочистителя</th>\n",
       "      <td>26.67</td>\n",
       "      <td>44.44</td>\n",
       "      <td>1.67</td>\n",
       "    </tr>\n",
       "    <tr>\n",
       "      <th>Моторное масло, Масляный фильтр ДВС | Топливный фильтр тонкой очистки</th>\n",
       "      <td>26.67</td>\n",
       "      <td>44.44</td>\n",
       "      <td>1.67</td>\n",
       "    </tr>\n",
       "    <tr>\n",
       "      <th>Масляный фильтр ДВС | Щетки стеклоочистителя</th>\n",
       "      <td>26.67</td>\n",
       "      <td>44.44</td>\n",
       "      <td>1.67</td>\n",
       "    </tr>\n",
       "    <tr>\n",
       "      <th>Моторное масло, Масляный фильтр ДВС | Свечи зажигания на моделях с бензиновым ДВС</th>\n",
       "      <td>26.67</td>\n",
       "      <td>44.44</td>\n",
       "      <td>1.67</td>\n",
       "    </tr>\n",
       "    <tr>\n",
       "      <th>Масляный фильтр ДВС | Топливный фильтр тонкой очистки</th>\n",
       "      <td>26.67</td>\n",
       "      <td>44.44</td>\n",
       "      <td>1.67</td>\n",
       "    </tr>\n",
       "    <tr>\n",
       "      <th>Моторное масло, Масляный фильтр ДВС | Задние тормозные колодки</th>\n",
       "      <td>26.67</td>\n",
       "      <td>44.44</td>\n",
       "      <td>1.67</td>\n",
       "    </tr>\n",
       "    <tr>\n",
       "      <th>Передние тормозные колодки, Масляный фильтр ДВС | Задние тормозные колодки</th>\n",
       "      <td>26.67</td>\n",
       "      <td>57.14</td>\n",
       "      <td>2.14</td>\n",
       "    </tr>\n",
       "    <tr>\n",
       "      <th>Передние тормозные колодки, Моторное масло | Свечи зажигания на моделях с бензиновым ДВС</th>\n",
       "      <td>26.67</td>\n",
       "      <td>57.14</td>\n",
       "      <td>2.14</td>\n",
       "    </tr>\n",
       "    <tr>\n",
       "      <th>Передние тормозные колодки, Моторное масло | Задние тормозные колодки</th>\n",
       "      <td>26.67</td>\n",
       "      <td>57.14</td>\n",
       "      <td>2.14</td>\n",
       "    </tr>\n",
       "    <tr>\n",
       "      <th>Передние тормозные колодки, Моторное масло | Воздушный фильтр ДВС</th>\n",
       "      <td>26.67</td>\n",
       "      <td>57.14</td>\n",
       "      <td>2.14</td>\n",
       "    </tr>\n",
       "    <tr>\n",
       "      <th>Передние тормозные колодки, Моторное масло | Топливный фильтр тонкой очистки</th>\n",
       "      <td>26.67</td>\n",
       "      <td>57.14</td>\n",
       "      <td>2.14</td>\n",
       "    </tr>\n",
       "    <tr>\n",
       "      <th>Передние тормозные колодки, Моторное масло | Щетки стеклоочистителя</th>\n",
       "      <td>26.67</td>\n",
       "      <td>57.14</td>\n",
       "      <td>2.14</td>\n",
       "    </tr>\n",
       "    <tr>\n",
       "      <th>Передние тормозные колодки, Масляный фильтр ДВС | Свечи зажигания на моделях с бензиновым ДВС</th>\n",
       "      <td>26.67</td>\n",
       "      <td>57.14</td>\n",
       "      <td>2.14</td>\n",
       "    </tr>\n",
       "    <tr>\n",
       "      <th>Передние тормозные колодки, Масляный фильтр ДВС | Щетки стеклоочистителя</th>\n",
       "      <td>26.67</td>\n",
       "      <td>57.14</td>\n",
       "      <td>2.14</td>\n",
       "    </tr>\n",
       "    <tr>\n",
       "      <th>Передние тормозные колодки, Масляный фильтр ДВС | Топливный фильтр тонкой очистки</th>\n",
       "      <td>26.67</td>\n",
       "      <td>57.14</td>\n",
       "      <td>2.14</td>\n",
       "    </tr>\n",
       "    <tr>\n",
       "      <th>Передние тормозные колодки, Масляный фильтр ДВС | Воздушный фильтр ДВС</th>\n",
       "      <td>26.67</td>\n",
       "      <td>57.14</td>\n",
       "      <td>2.14</td>\n",
       "    </tr>\n",
       "  </tbody>\n",
       "</table>\n",
       "</div>"
      ],
      "text/plain": [
       "                                                    Suported  Reliability  \\\n",
       "Передние тормозные колодки | Моторное масло            46.67        63.64   \n",
       "Передние тормозные колодки | Масляный фильтр ДВС       46.67        63.64   \n",
       "Передние тормозные колодки | Фильтр салона тонк...     33.33        45.45   \n",
       "Передние тормозные колодки | Фильтр салона             33.33        45.45   \n",
       "Передние тормозные колодки | Щетки стеклоочисти...     26.67        36.36   \n",
       "Передние тормозные колодки | Топливный фильтр т...     26.67        36.36   \n",
       "Передние тормозные колодки | Задние тормозные к...     26.67        36.36   \n",
       "Передние тормозные колодки | Свечи зажигания на...     26.67        36.36   \n",
       "Передние тормозные колодки | Воздушный фильтр ДВС      26.67        36.36   \n",
       "Моторное масло, Масляный фильтр ДВС | Воздушный...     26.67        44.44   \n",
       "Масляный фильтр ДВС | Воздушный фильтр ДВС             26.67        44.44   \n",
       "Масляный фильтр ДВС | Задние тормозные колодки         26.67        44.44   \n",
       "Масляный фильтр ДВС | Свечи зажигания на моделя...     26.67        44.44   \n",
       "Моторное масло | Щетки стеклоочистителя                26.67        44.44   \n",
       "Моторное масло | Топливный фильтр тонкой очистки       26.67        44.44   \n",
       "Моторное масло | Воздушный фильтр ДВС                  26.67        44.44   \n",
       "Моторное масло | Задние тормозные колодки              26.67        44.44   \n",
       "Моторное масло | Свечи зажигания на моделях с б...     26.67        44.44   \n",
       "Моторное масло, Масляный фильтр ДВС | Щетки сте...     26.67        44.44   \n",
       "Моторное масло, Масляный фильтр ДВС | Топливный...     26.67        44.44   \n",
       "Масляный фильтр ДВС | Щетки стеклоочистителя           26.67        44.44   \n",
       "Моторное масло, Масляный фильтр ДВС | Свечи заж...     26.67        44.44   \n",
       "Масляный фильтр ДВС | Топливный фильтр тонкой о...     26.67        44.44   \n",
       "Моторное масло, Масляный фильтр ДВС | Задние то...     26.67        44.44   \n",
       "Передние тормозные колодки, Масляный фильтр ДВС...     26.67        57.14   \n",
       "Передние тормозные колодки, Моторное масло | Св...     26.67        57.14   \n",
       "Передние тормозные колодки, Моторное масло | За...     26.67        57.14   \n",
       "Передние тормозные колодки, Моторное масло | Во...     26.67        57.14   \n",
       "Передние тормозные колодки, Моторное масло | То...     26.67        57.14   \n",
       "Передние тормозные колодки, Моторное масло | Ще...     26.67        57.14   \n",
       "Передние тормозные колодки, Масляный фильтр ДВС...     26.67        57.14   \n",
       "Передние тормозные колодки, Масляный фильтр ДВС...     26.67        57.14   \n",
       "Передние тормозные колодки, Масляный фильтр ДВС...     26.67        57.14   \n",
       "Передние тормозные колодки, Масляный фильтр ДВС...     26.67        57.14   \n",
       "\n",
       "                                                    Lift  \n",
       "Передние тормозные колодки | Моторное масло         1.06  \n",
       "Передние тормозные колодки | Масляный фильтр ДВС    1.06  \n",
       "Передние тормозные колодки | Фильтр салона тонк...  1.14  \n",
       "Передние тормозные колодки | Фильтр салона          1.14  \n",
       "Передние тормозные колодки | Щетки стеклоочисти...  1.36  \n",
       "Передние тормозные колодки | Топливный фильтр т...  1.36  \n",
       "Передние тормозные колодки | Задние тормозные к...  1.36  \n",
       "Передние тормозные колодки | Свечи зажигания на...  1.36  \n",
       "Передние тормозные колодки | Воздушный фильтр ДВС   1.36  \n",
       "Моторное масло, Масляный фильтр ДВС | Воздушный...  1.67  \n",
       "Масляный фильтр ДВС | Воздушный фильтр ДВС          1.67  \n",
       "Масляный фильтр ДВС | Задние тормозные колодки      1.67  \n",
       "Масляный фильтр ДВС | Свечи зажигания на моделя...  1.67  \n",
       "Моторное масло | Щетки стеклоочистителя             1.67  \n",
       "Моторное масло | Топливный фильтр тонкой очистки    1.67  \n",
       "Моторное масло | Воздушный фильтр ДВС               1.67  \n",
       "Моторное масло | Задние тормозные колодки           1.67  \n",
       "Моторное масло | Свечи зажигания на моделях с б...  1.67  \n",
       "Моторное масло, Масляный фильтр ДВС | Щетки сте...  1.67  \n",
       "Моторное масло, Масляный фильтр ДВС | Топливный...  1.67  \n",
       "Масляный фильтр ДВС | Щетки стеклоочистителя        1.67  \n",
       "Моторное масло, Масляный фильтр ДВС | Свечи заж...  1.67  \n",
       "Масляный фильтр ДВС | Топливный фильтр тонкой о...  1.67  \n",
       "Моторное масло, Масляный фильтр ДВС | Задние то...  1.67  \n",
       "Передние тормозные колодки, Масляный фильтр ДВС...  2.14  \n",
       "Передние тормозные колодки, Моторное масло | Св...  2.14  \n",
       "Передние тормозные колодки, Моторное масло | За...  2.14  \n",
       "Передние тормозные колодки, Моторное масло | Во...  2.14  \n",
       "Передние тормозные колодки, Моторное масло | То...  2.14  \n",
       "Передние тормозные колодки, Моторное масло | Ще...  2.14  \n",
       "Передние тормозные колодки, Масляный фильтр ДВС...  2.14  \n",
       "Передние тормозные колодки, Масляный фильтр ДВС...  2.14  \n",
       "Передние тормозные колодки, Масляный фильтр ДВС...  2.14  \n",
       "Передние тормозные колодки, Масляный фильтр ДВС...  2.14  "
      ]
     },
     "execution_count": 141,
     "metadata": {},
     "output_type": "execute_result"
    }
   ],
   "source": [
    "Dataframe.sort_values('Lift')"
   ]
  },
  {
   "cell_type": "code",
   "execution_count": null,
   "id": "2e9ccfb1",
   "metadata": {},
   "outputs": [],
   "source": []
  },
  {
   "cell_type": "code",
   "execution_count": 65,
   "id": "4150dc25",
   "metadata": {},
   "outputs": [],
   "source": [
    "procent_product_in_receipt = []"
   ]
  },
  {
   "cell_type": "code",
   "execution_count": 67,
   "id": "94f15abe",
   "metadata": {},
   "outputs": [
    {
     "data": {
      "text/plain": [
       "15"
      ]
     },
     "execution_count": 67,
     "metadata": {},
     "output_type": "execute_result"
    }
   ],
   "source": [
    "len_dataframe = len(dataframe)\n",
    "len_dataframe"
   ]
  },
  {
   "cell_type": "code",
   "execution_count": 81,
   "id": "9a4afd6e",
   "metadata": {},
   "outputs": [
    {
     "data": {
      "text/plain": [
       "[0.73,\n",
       " 0.6,\n",
       " 0.6,\n",
       " 0.4,\n",
       " 0.4,\n",
       " 0.27,\n",
       " 0.27,\n",
       " 0.27,\n",
       " 0.27,\n",
       " 0.27,\n",
       " 0.13,\n",
       " 0.13,\n",
       " 0.13,\n",
       " 0.13,\n",
       " 0.07,\n",
       " 0.07,\n",
       " 0.07,\n",
       " 0.07,\n",
       " 0.07,\n",
       " 0.07,\n",
       " 0.07,\n",
       " 0.07,\n",
       " 0.07,\n",
       " 0.07,\n",
       " 0.07,\n",
       " 0.07,\n",
       " 0.07,\n",
       " 0.07]"
      ]
     },
     "execution_count": 81,
     "metadata": {},
     "output_type": "execute_result"
    }
   ],
   "source": [
    "count_product_procent_ = []\n",
    "for x in unique_products:\n",
    "    count_product = 0\n",
    "    for i in group_products_receipts:\n",
    "        switch = False\n",
    "        for j in i:\n",
    "            if j == x:\n",
    "                switch = True\n",
    "        if switch:\n",
    "            count_product += 1\n",
    "    count_product_procent_.append(count_product)\n",
    "for i in range(len(count_product_procent)):\n",
    "    count_product_procent_[i] = round(count_product_procent_[i]/len_dataframe, 2)\n",
    "count_product_procent_"
   ]
  },
  {
   "cell_type": "code",
   "execution_count": 99,
   "id": "b5b8143c",
   "metadata": {},
   "outputs": [
    {
     "data": {
      "text/plain": [
       "[['Передние тормозные колодки', 0.73],\n",
       " ['Моторное масло', 0.6],\n",
       " ['Масляный фильтр ДВС', 0.6],\n",
       " ['Фильтр салона', 0.4],\n",
       " ['Фильтр салона тонкой очистки', 0.4]]"
      ]
     },
     "execution_count": 99,
     "metadata": {},
     "output_type": "execute_result"
    }
   ],
   "source": [
    "count_product_procent = []\n",
    "for i in range(len(count_product_procent_)):\n",
    "    if count_product_procent_[i] >= 0.3:\n",
    "        count_product_procent.append([unique_products[i], count_product_procent_[i]])\n",
    "count_product_procent"
   ]
  },
  {
   "cell_type": "code",
   "execution_count": 117,
   "id": "ab62955e",
   "metadata": {},
   "outputs": [
    {
     "data": {
      "text/plain": [
       "[['Передние тормозные колодки', 'Моторное масло'],\n",
       " ['Передние тормозные колодки', 'Масляный фильтр ДВС'],\n",
       " ['Передние тормозные колодки', 'Фильтр салона'],\n",
       " ['Передние тормозные колодки', 'Фильтр салона тонкой очистки'],\n",
       " ['Моторное масло', 'Масляный фильтр ДВС'],\n",
       " ['Моторное масло', 'Фильтр салона'],\n",
       " ['Моторное масло', 'Фильтр салона тонкой очистки'],\n",
       " ['Масляный фильтр ДВС', 'Фильтр салона'],\n",
       " ['Масляный фильтр ДВС', 'Фильтр салона тонкой очистки'],\n",
       " ['Фильтр салона', 'Фильтр салона тонкой очистки']]"
      ]
     },
     "execution_count": 117,
     "metadata": {},
     "output_type": "execute_result"
    }
   ],
   "source": [
    "mass_two_product = []\n",
    "for i in range(len(count_product_procent)-1):\n",
    "    for j in range(i + 1, len(count_product_procent)):\n",
    "        mass_two_product.append([count_product_procent[i][0], count_product_procent[j][0]])\n",
    "mass_two_product"
   ]
  },
  {
   "cell_type": "code",
   "execution_count": 146,
   "id": "2e81cb9d",
   "metadata": {},
   "outputs": [
    {
     "name": "stdout",
     "output_type": "stream",
     "text": [
      "Передние тормозные колодки, Моторное масло = 46.67%\n",
      "Передние тормозные колодки, Масляный фильтр ДВС = 46.67%\n",
      "Передние тормозные колодки, Фильтр салона = 33.33%\n",
      "Передние тормозные колодки, Фильтр салона тонкой очистки = 33.33%\n",
      "Моторное масло, Масляный фильтр ДВС = 60.0%\n",
      "Моторное масло, Фильтр салона = 20.0%\n",
      "Моторное масло, Фильтр салона тонкой очистки = 20.0%\n",
      "Масляный фильтр ДВС, Фильтр салона = 20.0%\n",
      "Масляный фильтр ДВС, Фильтр салона тонкой очистки = 20.0%\n",
      "Фильтр салона, Фильтр салона тонкой очистки = 40.0%\n"
     ]
    }
   ],
   "source": [
    "suported_mass_two_product_ = []\n",
    "for x in mass_two_product:\n",
    "    count = 0\n",
    "    for i in group_products_receipts:\n",
    "        if x[0] in i and x[1] in i:\n",
    "            count += 1\n",
    "    suported_mass_two_product_.append(count)\n",
    "for i in range(len(suported_mass_two_product_)):\n",
    "    suported_mass_two_product_[i] = round(suported_mass_two_product_[i] * 100 / len_dataframe, 2)\n",
    "suported_mass_two_product = []\n",
    "for i in range(len(mass_two_product)):\n",
    "    suported_mass_two_product.append([mass_two_product[i][0], mass_two_product[i][1], suported_mass_two_product_[i]])\n",
    "for i in range(len(suported_mass_two_product)):\n",
    "    print(f'{suported_mass_two_product[i][0]}, {suported_mass_two_product[i][1]} = {suported_mass_two_product[i][2]}%')"
   ]
  },
  {
   "cell_type": "code",
   "execution_count": 147,
   "id": "b07b16e8",
   "metadata": {},
   "outputs": [
    {
     "name": "stdout",
     "output_type": "stream",
     "text": [
      "Передние тормозные колодки, Моторное масло = 63.64%\n",
      "Передние тормозные колодки, Масляный фильтр ДВС = 63.64%\n",
      "Передние тормозные колодки, Фильтр салона = 45.45%\n",
      "Передние тормозные колодки, Фильтр салона тонкой очистки = 45.45%\n",
      "Моторное масло, Масляный фильтр ДВС = 100.0%\n",
      "Моторное масло, Фильтр салона = 33.33%\n",
      "Моторное масло, Фильтр салона тонкой очистки = 33.33%\n",
      "Масляный фильтр ДВС, Фильтр салона = 33.33%\n",
      "Масляный фильтр ДВС, Фильтр салона тонкой очистки = 33.33%\n",
      "Фильтр салона, Фильтр салона тонкой очистки = 100.0%\n"
     ]
    }
   ],
   "source": [
    "reliability_mass_two_product_ = []\n",
    "reliability_mass_two_product__ = []\n",
    "for x in mass_two_product:\n",
    "    count = 0\n",
    "    for i in group_products_receipts:\n",
    "        if x[0] in i and x[1] in i:\n",
    "            count += 1\n",
    "    reliability_mass_two_product_.append(count)\n",
    "for x in mass_two_product:\n",
    "    count_firs = 0\n",
    "    for i in group_products_receipts:\n",
    "        if x[0] in i:\n",
    "            count_firs += 1\n",
    "    reliability_mass_two_product__.append(count_firs)\n",
    "for i in range(len(suported_mass_two_product)):\n",
    "    reliability_mass_two_product_[i] = round(reliability_mass_two_product_[i] * 100 / reliability_mass_two_product__[i], 2)\n",
    "reliability_mass_two_product = []\n",
    "for i in range(len(mass_two_product)):\n",
    "    reliability_mass_two_product.append([mass_two_product[i][0], mass_two_product[i][1], reliability_mass_two_product_[i]])\n",
    "for i in range(len(reliability_mass_two_product)):\n",
    "    print(f'{reliability_mass_two_product[i][0]}, {reliability_mass_two_product[i][1]} = {reliability_mass_two_product[i][2]}%')"
   ]
  },
  {
   "cell_type": "code",
   "execution_count": 145,
   "id": "6fe326e7",
   "metadata": {},
   "outputs": [
    {
     "name": "stdout",
     "output_type": "stream",
     "text": [
      "Передние тормозные колодки, Моторное масло = 1.07%\n",
      "Передние тормозные колодки, Масляный фильтр ДВС = 1.07%\n",
      "Передние тормозные колодки, Фильтр салона = 1.12%\n",
      "Передние тормозные колодки, Фильтр салона тонкой очистки = 1.12%\n",
      "Моторное масло, Масляный фильтр ДВС = 1.67%\n",
      "Моторное масло, Фильтр салона = 0.82%\n",
      "Моторное масло, Фильтр салона тонкой очистки = 0.82%\n",
      "Масляный фильтр ДВС, Фильтр салона = 0.82%\n",
      "Масляный фильтр ДВС, Фильтр салона тонкой очистки = 0.82%\n",
      "Фильтр салона, Фильтр салона тонкой очистки = 2.5%\n"
     ]
    }
   ],
   "source": [
    "lift_mass_two_product_ = []\n",
    "lift_mass_two_product__ = []\n",
    "\n",
    "for i in range(len(reliability_mass_two_product)):\n",
    "    lift_mass_two_product_.append(reliability_mass_two_product[i][2])\n",
    "\n",
    "for x in mass_two_product:\n",
    "    count_second = 0\n",
    "    for i in group_products_receipts:\n",
    "        if x[1] in i:\n",
    "            count_second += 1\n",
    "    lift_mass_two_product__.append(count_second)\n",
    "\n",
    "for i in range(len(lift_mass_two_product_)):\n",
    "    lift_mass_two_product__[i] = round(lift_mass_two_product__[i] * 100 / len_dataframe)\n",
    "\n",
    "\n",
    "lift_mass_two_product = []\n",
    "for i in range(len(mass_two_product)):\n",
    "    lift_mass_two_product.append([mass_two_product[i][0], mass_two_product[i][1], round(lift_mass_two_product_[i]/lift_mass_two_product__[i], 2)])\n",
    "\n",
    "\n",
    "for i in range(len(lift_mass_two_product)):\n",
    "    print(f'{lift_mass_two_product[i][0]}, {lift_mass_two_product[i][1]} = {lift_mass_two_product[i][2]}%')"
   ]
  },
  {
   "cell_type": "code",
   "execution_count": null,
   "id": "a023a896",
   "metadata": {},
   "outputs": [],
   "source": []
  },
  {
   "cell_type": "code",
   "execution_count": null,
   "id": "1d5bbd0a",
   "metadata": {},
   "outputs": [],
   "source": []
  },
  {
   "cell_type": "code",
   "execution_count": null,
   "id": "141fcdfa",
   "metadata": {},
   "outputs": [],
   "source": []
  },
  {
   "cell_type": "code",
   "execution_count": null,
   "id": "d10a57ff",
   "metadata": {},
   "outputs": [],
   "source": []
  },
  {
   "cell_type": "code",
   "execution_count": null,
   "id": "d42dd91b",
   "metadata": {},
   "outputs": [],
   "source": []
  },
  {
   "cell_type": "code",
   "execution_count": null,
   "id": "e04cd8a0",
   "metadata": {},
   "outputs": [],
   "source": []
  },
  {
   "cell_type": "code",
   "execution_count": null,
   "id": "838ac5c5",
   "metadata": {},
   "outputs": [],
   "source": []
  }
 ],
 "metadata": {
  "kernelspec": {
   "display_name": "Python 3 (ipykernel)",
   "language": "python",
   "name": "python3"
  },
  "language_info": {
   "codemirror_mode": {
    "name": "ipython",
    "version": 3
   },
   "file_extension": ".py",
   "mimetype": "text/x-python",
   "name": "python",
   "nbconvert_exporter": "python",
   "pygments_lexer": "ipython3",
   "version": "3.10.7"
  }
 },
 "nbformat": 4,
 "nbformat_minor": 5
}

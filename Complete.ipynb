{
 "cells": [
  {
   "cell_type": "code",
   "execution_count": 22,
   "id": "80ba163d",
   "metadata": {},
   "outputs": [],
   "source": [
    "import pandas as pd\n",
    "import numpy as np\n",
    "import seaborn as sn\n",
    "import matplotlib as plt"
   ]
  },
  {
   "cell_type": "code",
   "execution_count": 57,
   "id": "6a9aac40",
   "metadata": {},
   "outputs": [],
   "source": [
    "data = pd.read_csv('C:/Users/filip/Firs_task_Zeleznyak/stasic//data.csv')"
   ]
  },
  {
   "cell_type": "code",
   "execution_count": 23,
   "id": "dbf084f6",
   "metadata": {},
   "outputs": [],
   "source": [
    "data = pd.read_csv('C:/Users/filip/PycharmProjects/Firs_task_Zeleznyak/stasic//data.csv')"
   ]
  },
  {
   "cell_type": "code",
   "execution_count": 24,
   "id": "5930de5c",
   "metadata": {},
   "outputs": [],
   "source": [
    "data.hist()"
   ]
  },
  {
   "cell_type": "code",
   "execution_count": 25,
   "id": "8ba63c49",
   "metadata": {},
   "outputs": [],
   "source": [
    "data.head(10)"
   ]
  },
  {
   "cell_type": "code",
   "execution_count": 26,
   "id": "f173a058",
   "metadata": {},
   "outputs": [],
   "source": [
    "unique_receipts = data.receipt_number.unique()\n",
    "print(len(unique_receipts))\n",
    "unique_receipts"
   ]
  },
  {
   "cell_type": "code",
   "execution_count": 27,
   "id": "ba63fb11",
   "metadata": {},
   "outputs": [],
   "source": [
    "unique_products = data['product'].unique()\n",
    "print(len(unique_products))\n",
    "unique_products"
   ]
  },
  {
   "cell_type": "code",
   "execution_count": 28,
   "id": "f878431c",
   "metadata": {},
   "outputs": [],
   "source": [
    "data_np = data.to_numpy()\n",
    "data_np[:5]"
   ]
  },
  {
   "cell_type": "code",
   "execution_count": 29,
   "id": "d5a0bfbc",
   "metadata": {},
   "outputs": [],
   "source": [
    "group_products_receipts = []\n",
    "for i in unique_receipts:\n",
    "    micro_data = []\n",
    "    for j in data_np:\n",
    "        if j[0] == i:\n",
    "            micro_data.append(j[1])\n",
    "    group_products_receipts.append(micro_data)"
   ]
  },
  {
   "cell_type": "code",
   "execution_count": 30,
   "id": "16677d49",
   "metadata": {},
   "outputs": [],
   "source": [
    "dataframe = pd.DataFrame({'receipt' : unique_receipts,\n",
    "                  \n",
    "                          'product' : group_products_receipts}, \n",
    "                                columns=['receipt','product'])\n",
    "dataframe"
   ]
  },
  {
   "cell_type": "code",
   "execution_count": 31,
   "id": "4150dc25",
   "metadata": {},
   "outputs": [],
   "source": [
    "procent_product_in_receipt = []"
   ]
  },
  {
   "cell_type": "code",
   "execution_count": 32,
   "id": "94f15abe",
   "metadata": {},
   "outputs": [],
   "source": [
    "len_dataframe = len(dataframe)\n",
    "len_dataframe"
   ]
  },
  {
   "cell_type": "code",
   "execution_count": 33,
   "id": "392b034b",
   "metadata": {},
   "outputs": [],
   "source": [
    "count_product_procent_ = []\n",
    "for x in unique_products:\n",
    "    count_product = 0\n",
    "    for i in group_products_receipts:\n",
    "        switch = False\n",
    "        for j in i:\n",
    "            if j == x:\n",
    "                switch = True\n",
    "        if switch:\n",
    "            count_product += 1\n",
    "    count_product_procent_.append(count_product)\n",
    "for i in range(len(count_product_procent)):\n",
    "    count_product_procent_[i] = round(count_product_procent_[i]/len_dataframe, 2)\n",
    "count_product_procent_"
   ]
  },
  {
   "cell_type": "code",
   "execution_count": 34,
   "id": "b3dfacd3",
   "metadata": {},
   "outputs": [],
   "source": [
    "count_product_procent = []\n",
    "for i in range(len(count_product_procent_)):\n",
    "    if count_product_procent_[i] >= 0.2:\n",
    "        count_product_procent.append([unique_products[i], count_product_procent_[i]])\n",
    "count_product_procent"
   ]
  },
  {
   "cell_type": "code",
   "execution_count": 35,
   "id": "5feb079c",
   "metadata": {},
   "outputs": [],
   "source": [
    "mass_two_product = []\n",
    "for i in range(len(count_product_procent)-1):\n",
    "    for j in range(i + 1, len(count_product_procent)):\n",
    "        mass_two_product.append([count_product_procent[i][0], count_product_procent[j][0]])\n",
    "mass_two_product"
   ]
  },
  {
   "cell_type": "code",
   "execution_count": 36,
   "id": "ab374f2c",
   "metadata": {},
   "outputs": [],
   "source": [
    "suported_mass_two_product_ = []\n",
    "for x in mass_two_product:\n",
    "    count = 0\n",
    "    for i in group_products_receipts:\n",
    "        if x[0] in i and x[1] in i:\n",
    "            count += 1\n",
    "    suported_mass_two_product_.append(count)\n",
    "for i in range(len(suported_mass_two_product_)):\n",
    "    suported_mass_two_product_[i] = round(suported_mass_two_product_[i] * 100 / len_dataframe, 2)\n",
    "suported_mass_two_product = []\n",
    "for i in range(len(mass_two_product)):\n",
    "    suported_mass_two_product.append([mass_two_product[i][0], mass_two_product[i][1], suported_mass_two_product_[i]])\n",
    "for i in range(len(suported_mass_two_product)):\n",
    "    print(f'{suported_mass_two_product[i][0]}, {suported_mass_two_product[i][1]} = {suported_mass_two_product[i][2]}%')"
   ]
  },
  {
   "cell_type": "code",
   "execution_count": 37,
   "id": "d748fe21",
   "metadata": {},
   "outputs": [],
   "source": [
    "reliability_mass_two_product_ = []\n",
    "reliability_mass_two_product__ = []\n",
    "for x in mass_two_product:\n",
    "    count = 0\n",
    "    for i in group_products_receipts:\n",
    "        if x[0] in i and x[1] in i:\n",
    "            count += 1\n",
    "    reliability_mass_two_product_.append(count)\n",
    "for x in mass_two_product:\n",
    "    count_firs = 0\n",
    "    for i in group_products_receipts:\n",
    "        if x[0] in i:\n",
    "            count_firs += 1\n",
    "    reliability_mass_two_product__.append(count_firs)\n",
    "for i in range(len(suported_mass_two_product)):\n",
    "    reliability_mass_two_product_[i] = round(reliability_mass_two_product_[i] * 100 / reliability_mass_two_product__[i], 2)\n",
    "reliability_mass_two_product = []\n",
    "for i in range(len(mass_two_product)):\n",
    "    reliability_mass_two_product.append([mass_two_product[i][0], mass_two_product[i][1], reliability_mass_two_product_[i]])\n",
    "for i in range(len(reliability_mass_two_product)):\n",
    "    print(f'{reliability_mass_two_product[i][0]}, {reliability_mass_two_product[i][1]} = {reliability_mass_two_product[i][2]}%')"
   ]
  },
  {
   "cell_type": "code",
   "execution_count": 38,
   "id": "a7d0d7ca",
   "metadata": {},
   "outputs": [],
   "source": [
    "lift_mass_two_product_ = []\n",
    "lift_mass_two_product__ = []\n",
    "\n",
    "for i in range(len(reliability_mass_two_product)):\n",
    "    lift_mass_two_product_.append(reliability_mass_two_product[i][2])\n",
    "\n",
    "for x in mass_two_product:\n",
    "    count_second = 0\n",
    "    for i in group_products_receipts:\n",
    "        if x[1] in i:\n",
    "            count_second += 1\n",
    "    lift_mass_two_product__.append(count_second)\n",
    "\n",
    "for i in range(len(lift_mass_two_product_)):\n",
    "    lift_mass_two_product__[i] = round(lift_mass_two_product__[i] * 100 / len_dataframe)\n",
    "\n",
    "\n",
    "lift_mass_two_product = []\n",
    "for i in range(len(mass_two_product)):\n",
    "    lift_mass_two_product.append([mass_two_product[i][0], mass_two_product[i][1], round(lift_mass_two_product_[i]/lift_mass_two_product__[i], 2)])\n",
    "\n",
    "\n",
    "for i in range(len(lift_mass_two_product)):\n",
    "    print(f'{lift_mass_two_product[i][0]}, {lift_mass_two_product[i][1]} = {lift_mass_two_product[i][2]}%')"
   ]
  },
  {
   "cell_type": "code",
   "execution_count": null,
   "id": "8586cd42",
   "metadata": {},
   "outputs": [],
   "source": []
  },
  {
   "cell_type": "code",
   "execution_count": null,
   "id": "d85b4048",
   "metadata": {},
   "outputs": [],
   "source": []
  },
  {
   "cell_type": "code",
   "execution_count": null,
   "id": "391d17e6",
   "metadata": {},
   "outputs": [],
   "source": []
  },
  {
   "cell_type": "code",
   "execution_count": null,
   "id": "d3f94c76",
   "metadata": {},
   "outputs": [],
   "source": []
  },
  {
   "cell_type": "code",
   "execution_count": null,
   "id": "abf6fe77",
   "metadata": {},
   "outputs": [],
   "source": []
  },
  {
   "cell_type": "code",
   "execution_count": null,
   "id": "87d42239",
   "metadata": {},
   "outputs": [],
   "source": []
  },
  {
   "cell_type": "code",
   "execution_count": null,
   "id": "766e4347",
   "metadata": {},
   "outputs": [],
   "source": []
  }
 ],
 "metadata": {
  "kernelspec": {
   "display_name": "Python 3 (ipykernel)",
   "language": "python",
   "name": "python3"
  },
  "language_info": {
   "codemirror_mode": {
    "name": "ipython",
    "version": 3
   },
   "file_extension": ".py",
   "mimetype": "text/x-python",
   "name": "python",
   "nbconvert_exporter": "python",
   "pygments_lexer": "ipython3",
   "version": "3.10.7"
  }
 },
 "nbformat": 4,
 "nbformat_minor": 5
}
